{
 "cells": [
  {
   "cell_type": "code",
   "execution_count": 1,
   "metadata": {},
   "outputs": [],
   "source": [
    "import pandas as pd\n",
    "from selenium import webdriver\n",
    "from selenium.webdriver.common.by import By\n",
    "from selenium.common.exceptions import NoSuchElementException\n",
    "from selenium.webdriver.chrome.service import Service\n",
    "from selenium.webdriver.support import expected_conditions as EC\n",
    "from selenium.webdriver.support.ui import WebDriverWait"
   ]
  },
  {
   "cell_type": "code",
   "execution_count": 2,
   "metadata": {},
   "outputs": [],
   "source": [
    "# Define the path to the Chrome WebDriver (chromedriver.exe)\n",
    "driver_path = \"chromedriver.exe\"\n",
    "\n",
    "# Set the URL of the target web page\n",
    "url = \"carvilla-v1.0/index.html\""
   ]
  },
  {
   "cell_type": "code",
   "execution_count": 3,
   "metadata": {},
   "outputs": [],
   "source": [
    "# Initialize and start the Chrome Driver service\n",
    "service = Service(driver_path)\n",
    "service.start()"
   ]
  },
  {
   "cell_type": "code",
   "execution_count": 4,
   "metadata": {},
   "outputs": [
    {
     "name": "stdout",
     "output_type": "stream",
     "text": [
      "NAMA MOBIL: BMW 6-Series Gran Coupe\n",
      "Harga Mobil: $89,395\n",
      "NAMA MOBIL: Chevrolet Camaro WMV20\n",
      "Harga Mobil: $66,575\n",
      "NAMA MOBIL: Lamborghini V520\n",
      "Harga Mobil: $125,250\n",
      "NAMA MOBIL: Audi A3 Sedan\n",
      "Harga Mobil: $95,500\n",
      "NAMA MOBIL: Infiniti Z5\n",
      "Harga Mobil: $36,850\n",
      "NAMA MOBIL: Porsche 718 Cayman\n",
      "Harga Mobil: $48,500\n",
      "NAMA MOBIL: BMW 8-Series Coupe\n",
      "Harga Mobil: $56,000\n",
      "NAMA MOBIL: BMW XSeries-6\n",
      "Harga Mobil: $75,800\n"
     ]
    }
   ],
   "source": [
    "# Launch the Chrome browser using our configured service\n",
    "driver = webdriver.Chrome(service=service)\n",
    "driver.maximize_window()\n",
    "\n",
    "# Navigate to the specified URL\n",
    "driver.get(url)\n",
    "\n",
    "# Set up a waiting mechanism with a timeout of 10 seconds\n",
    "wait = WebDriverWait(driver, 10)\n",
    "\n",
    "# Define XPaths to locate the car names and prices\n",
    "xpath_nama_mobil = \"/html/body/div/section[4]/div/div[2]/div/div/div/div[2]/h2/a\"\n",
    "xpath_harga_mobil = \"/html/body/div/section[4]/div/div[2]/div/div/div/div[2]/h3\"\n",
    "\n",
    "# Initialize lists to store car names and prices\n",
    "nama_mobil_list = []\n",
    "harga_mobil_list = []\n",
    "\n",
    "try:\n",
    "    # Find the web elements containing car names and prices\n",
    "    nama_mobil_elements = driver.find_elements(By.XPATH, xpath_nama_mobil)\n",
    "    harga_mobil_elements = driver.find_elements(By.XPATH, xpath_harga_mobil)\n",
    "    \n",
    "    # Loop through the elements and extract data\n",
    "    for nama_element, harga_element in zip(nama_mobil_elements, harga_mobil_elements):\n",
    "        nama_mobil = nama_element.text\n",
    "        harga_mobil = harga_element.text\n",
    "        \n",
    "        # Print and store the data\n",
    "        print(\"NAMA MOBIL:\", nama_mobil)\n",
    "        print(\"Harga Mobil:\", harga_mobil)\n",
    "\n",
    "        nama_mobil_list.append(nama_mobil)\n",
    "        harga_mobil_list.append(harga_mobil)\n",
    "\n",
    "except NoSuchElementException:\n",
    "    print(\"Elemen tidak ditemukan\")\n",
    "\n",
    "# Close the browser\n",
    "driver.quit()"
   ]
  },
  {
   "cell_type": "code",
   "execution_count": 5,
   "metadata": {},
   "outputs": [
    {
     "data": {
      "text/html": [
       "<div>\n",
       "<style scoped>\n",
       "    .dataframe tbody tr th:only-of-type {\n",
       "        vertical-align: middle;\n",
       "    }\n",
       "\n",
       "    .dataframe tbody tr th {\n",
       "        vertical-align: top;\n",
       "    }\n",
       "\n",
       "    .dataframe thead th {\n",
       "        text-align: right;\n",
       "    }\n",
       "</style>\n",
       "<table border=\"1\" class=\"dataframe\">\n",
       "  <thead>\n",
       "    <tr style=\"text-align: right;\">\n",
       "      <th></th>\n",
       "      <th>Nama Mobil</th>\n",
       "      <th>Harga Mobil</th>\n",
       "    </tr>\n",
       "  </thead>\n",
       "  <tbody>\n",
       "    <tr>\n",
       "      <th>0</th>\n",
       "      <td>BMW 6-Series Gran Coupe</td>\n",
       "      <td>$89,395</td>\n",
       "    </tr>\n",
       "    <tr>\n",
       "      <th>1</th>\n",
       "      <td>Chevrolet Camaro WMV20</td>\n",
       "      <td>$66,575</td>\n",
       "    </tr>\n",
       "    <tr>\n",
       "      <th>2</th>\n",
       "      <td>Lamborghini V520</td>\n",
       "      <td>$125,250</td>\n",
       "    </tr>\n",
       "    <tr>\n",
       "      <th>3</th>\n",
       "      <td>Audi A3 Sedan</td>\n",
       "      <td>$95,500</td>\n",
       "    </tr>\n",
       "    <tr>\n",
       "      <th>4</th>\n",
       "      <td>Infiniti Z5</td>\n",
       "      <td>$36,850</td>\n",
       "    </tr>\n",
       "    <tr>\n",
       "      <th>5</th>\n",
       "      <td>Porsche 718 Cayman</td>\n",
       "      <td>$48,500</td>\n",
       "    </tr>\n",
       "    <tr>\n",
       "      <th>6</th>\n",
       "      <td>BMW 8-Series Coupe</td>\n",
       "      <td>$56,000</td>\n",
       "    </tr>\n",
       "    <tr>\n",
       "      <th>7</th>\n",
       "      <td>BMW XSeries-6</td>\n",
       "      <td>$75,800</td>\n",
       "    </tr>\n",
       "  </tbody>\n",
       "</table>\n",
       "</div>"
      ],
      "text/plain": [
       "                Nama Mobil Harga Mobil\n",
       "0  BMW 6-Series Gran Coupe     $89,395\n",
       "1   Chevrolet Camaro WMV20     $66,575\n",
       "2         Lamborghini V520    $125,250\n",
       "3            Audi A3 Sedan     $95,500\n",
       "4              Infiniti Z5     $36,850\n",
       "5       Porsche 718 Cayman     $48,500\n",
       "6       BMW 8-Series Coupe     $56,000\n",
       "7            BMW XSeries-6     $75,800"
      ]
     },
     "execution_count": 5,
     "metadata": {},
     "output_type": "execute_result"
    }
   ],
   "source": [
    "# Organize the extracted data into a dictionary\n",
    "data = {\n",
    "    \"Nama Mobil\": nama_mobil_list,\n",
    "    \"Harga Mobil\": harga_mobil_list\n",
    "}\n",
    "\n",
    "# Create a Pandas DataFrame from the collected data\n",
    "data_mobil = pd.DataFrame(data)\n",
    "\n",
    "# Display the DataFrame\n",
    "data_mobil"
   ]
  }
 ],
 "metadata": {
  "kernelspec": {
   "display_name": "Python 3",
   "language": "python",
   "name": "python3"
  },
  "language_info": {
   "codemirror_mode": {
    "name": "ipython",
    "version": 3
   },
   "file_extension": ".py",
   "mimetype": "text/x-python",
   "name": "python",
   "nbconvert_exporter": "python",
   "pygments_lexer": "ipython3",
   "version": "3.9.12"
  }
 },
 "nbformat": 4,
 "nbformat_minor": 2
}
